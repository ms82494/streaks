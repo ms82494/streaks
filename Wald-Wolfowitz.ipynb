{
 "cells": [
  {
   "cell_type": "markdown",
   "metadata": {},
   "source": [
    "# Wald-Wolfowitz Runs Test\n",
    "\n",
    "Since this repo is concerned with streaks, or runs, it makes sense to conduct a formal runs test to check, whether the \"up\" and \"down\" streaks appear to follow the same distribution. We first go through a full implementation with the asymptotic runs test statistic, and then verify our result against the single-sample runs test implementation from the statsmodels library.\n"
   ]
  },
  {
   "cell_type": "code",
   "execution_count": 1,
   "metadata": {},
   "outputs": [],
   "source": [
    "import pandas as pd\n",
    "import math\n",
    "from scipy.stats import norm\n",
    "import statsmodels.sandbox.stats.runs as sms\n",
    "import numpy as np"
   ]
  },
  {
   "cell_type": "code",
   "execution_count": 2,
   "metadata": {},
   "outputs": [],
   "source": [
    "df1 = pd.read_csv('streaks.csv', header=0)\n",
    "df1['up'] = df1.up.astype(bool)\n",
    "df1 = df1[df1['length'] != 0]"
   ]
  },
  {
   "cell_type": "code",
   "execution_count": 3,
   "metadata": {},
   "outputs": [
    {
     "data": {
      "text/html": [
       "<div>\n",
       "<style scoped>\n",
       "    .dataframe tbody tr th:only-of-type {\n",
       "        vertical-align: middle;\n",
       "    }\n",
       "\n",
       "    .dataframe tbody tr th {\n",
       "        vertical-align: top;\n",
       "    }\n",
       "\n",
       "    .dataframe thead th {\n",
       "        text-align: right;\n",
       "    }\n",
       "</style>\n",
       "<table border=\"1\" class=\"dataframe\">\n",
       "  <thead>\n",
       "    <tr style=\"text-align: right;\">\n",
       "      <th></th>\n",
       "      <th>startdate</th>\n",
       "      <th>enddate</th>\n",
       "      <th>length</th>\n",
       "      <th>ret</th>\n",
       "      <th>fwd_ret</th>\n",
       "      <th>up</th>\n",
       "      <th>ticker</th>\n",
       "    </tr>\n",
       "  </thead>\n",
       "  <tbody>\n",
       "    <tr>\n",
       "      <th>0</th>\n",
       "      <td>1990-04-06</td>\n",
       "      <td>1990-05-04</td>\n",
       "      <td>5</td>\n",
       "      <td>-0.400000</td>\n",
       "      <td>0.100000</td>\n",
       "      <td>False</td>\n",
       "      <td>PKOH</td>\n",
       "    </tr>\n",
       "    <tr>\n",
       "      <th>1</th>\n",
       "      <td>1990-05-11</td>\n",
       "      <td>1990-05-11</td>\n",
       "      <td>1</td>\n",
       "      <td>0.133333</td>\n",
       "      <td>0.058824</td>\n",
       "      <td>True</td>\n",
       "      <td>PKOH</td>\n",
       "    </tr>\n",
       "    <tr>\n",
       "      <th>2</th>\n",
       "      <td>1990-05-18</td>\n",
       "      <td>1990-05-18</td>\n",
       "      <td>1</td>\n",
       "      <td>-0.088235</td>\n",
       "      <td>0.225806</td>\n",
       "      <td>False</td>\n",
       "      <td>PKOH</td>\n",
       "    </tr>\n",
       "    <tr>\n",
       "      <th>3</th>\n",
       "      <td>1990-05-25</td>\n",
       "      <td>1990-06-15</td>\n",
       "      <td>4</td>\n",
       "      <td>0.225806</td>\n",
       "      <td>-0.131579</td>\n",
       "      <td>True</td>\n",
       "      <td>PKOH</td>\n",
       "    </tr>\n",
       "    <tr>\n",
       "      <th>4</th>\n",
       "      <td>1990-06-22</td>\n",
       "      <td>1990-07-13</td>\n",
       "      <td>4</td>\n",
       "      <td>-0.131579</td>\n",
       "      <td>-0.030303</td>\n",
       "      <td>False</td>\n",
       "      <td>PKOH</td>\n",
       "    </tr>\n",
       "    <tr>\n",
       "      <th>...</th>\n",
       "      <td>...</td>\n",
       "      <td>...</td>\n",
       "      <td>...</td>\n",
       "      <td>...</td>\n",
       "      <td>...</td>\n",
       "      <td>...</td>\n",
       "      <td>...</td>\n",
       "    </tr>\n",
       "    <tr>\n",
       "      <th>1408148</th>\n",
       "      <td>2019-12-13</td>\n",
       "      <td>2019-12-13</td>\n",
       "      <td>1</td>\n",
       "      <td>0.047252</td>\n",
       "      <td>0.008287</td>\n",
       "      <td>True</td>\n",
       "      <td>GFN</td>\n",
       "    </tr>\n",
       "    <tr>\n",
       "      <th>1408149</th>\n",
       "      <td>2019-12-20</td>\n",
       "      <td>2019-12-20</td>\n",
       "      <td>1</td>\n",
       "      <td>-0.026703</td>\n",
       "      <td>0.020814</td>\n",
       "      <td>False</td>\n",
       "      <td>GFN</td>\n",
       "    </tr>\n",
       "    <tr>\n",
       "      <th>1408150</th>\n",
       "      <td>2019-12-27</td>\n",
       "      <td>2019-12-27</td>\n",
       "      <td>1</td>\n",
       "      <td>0.037843</td>\n",
       "      <td>-0.005469</td>\n",
       "      <td>True</td>\n",
       "      <td>GFN</td>\n",
       "    </tr>\n",
       "    <tr>\n",
       "      <th>1408151</th>\n",
       "      <td>2020-01-03</td>\n",
       "      <td>2020-01-17</td>\n",
       "      <td>3</td>\n",
       "      <td>-0.016408</td>\n",
       "      <td>NaN</td>\n",
       "      <td>False</td>\n",
       "      <td>GFN</td>\n",
       "    </tr>\n",
       "    <tr>\n",
       "      <th>1408152</th>\n",
       "      <td>2020-01-24</td>\n",
       "      <td>2020-01-24</td>\n",
       "      <td>1</td>\n",
       "      <td>0.011121</td>\n",
       "      <td>NaN</td>\n",
       "      <td>True</td>\n",
       "      <td>GFN</td>\n",
       "    </tr>\n",
       "  </tbody>\n",
       "</table>\n",
       "<p>1408078 rows × 7 columns</p>\n",
       "</div>"
      ],
      "text/plain": [
       "          startdate     enddate  length       ret   fwd_ret     up ticker\n",
       "0        1990-04-06  1990-05-04       5 -0.400000  0.100000  False   PKOH\n",
       "1        1990-05-11  1990-05-11       1  0.133333  0.058824   True   PKOH\n",
       "2        1990-05-18  1990-05-18       1 -0.088235  0.225806  False   PKOH\n",
       "3        1990-05-25  1990-06-15       4  0.225806 -0.131579   True   PKOH\n",
       "4        1990-06-22  1990-07-13       4 -0.131579 -0.030303  False   PKOH\n",
       "...             ...         ...     ...       ...       ...    ...    ...\n",
       "1408148  2019-12-13  2019-12-13       1  0.047252  0.008287   True    GFN\n",
       "1408149  2019-12-20  2019-12-20       1 -0.026703  0.020814  False    GFN\n",
       "1408150  2019-12-27  2019-12-27       1  0.037843 -0.005469   True    GFN\n",
       "1408151  2020-01-03  2020-01-17       3 -0.016408       NaN  False    GFN\n",
       "1408152  2020-01-24  2020-01-24       1  0.011121       NaN   True    GFN\n",
       "\n",
       "[1408078 rows x 7 columns]"
      ]
     },
     "execution_count": 3,
     "metadata": {},
     "output_type": "execute_result"
    }
   ],
   "source": [
    "df1"
   ]
  },
  {
   "cell_type": "markdown",
   "metadata": {},
   "source": [
    "With the table set up, we first calculate the total number of runs, `R`."
   ]
  },
  {
   "cell_type": "code",
   "execution_count": 4,
   "metadata": {},
   "outputs": [
    {
     "data": {
      "text/plain": [
       "1408078"
      ]
     },
     "execution_count": 4,
     "metadata": {},
     "output_type": "execute_result"
    }
   ],
   "source": [
    "R = df1.startdate.count()\n",
    "R"
   ]
  },
  {
   "cell_type": "markdown",
   "metadata": {},
   "source": [
    "Next, we need the total number of upward (downward) weeks, `n_u` (`n_d`), which is the sum product of the `up` (`down`) and `length` columns in dataframe `tbl`."
   ]
  },
  {
   "cell_type": "code",
   "execution_count": 5,
   "metadata": {},
   "outputs": [
    {
     "name": "stdout",
     "output_type": "stream",
     "text": [
      "n_u = 1391916, n_d = 1359737\n"
     ]
    }
   ],
   "source": [
    "n_d = df1[df1['up'] == False].length.sum()\n",
    "n_u = df1[df1['up'] == True].length.sum()\n",
    "print(f'n_u = {int(n_u):d}, n_d = {int(n_d):d}')"
   ]
  },
  {
   "cell_type": "code",
   "execution_count": 6,
   "metadata": {},
   "outputs": [],
   "source": [
    "n_u = float(n_u)  # This is done to avoid address overflow errors with integer types, since terms in the \n",
    "n_d = float(n_d)  # following calculations get very large"
   ]
  },
  {
   "cell_type": "markdown",
   "metadata": {},
   "source": [
    "The formula for the expected value and variance of `R` can be found, for example, [here](https://online.stat.psu.edu/stat414/node/329/). I enter it in the following:"
   ]
  },
  {
   "cell_type": "code",
   "execution_count": 7,
   "metadata": {},
   "outputs": [
    {
     "data": {
      "text/plain": [
       "1375639.3425468255"
      ]
     },
     "execution_count": 7,
     "metadata": {},
     "output_type": "execute_result"
    }
   ],
   "source": [
    "R_hat = 2 * n_u * n_d / (n_u + n_d) + 1\n",
    "R_hat"
   ]
  },
  {
   "cell_type": "code",
   "execution_count": 8,
   "metadata": {},
   "outputs": [],
   "source": [
    "R_var = 2 * n_u * n_d * (2 * n_u * n_d - n_u - n_d) / ((n_u + n_d)**2 * (n_u + n_d - 1))"
   ]
  },
  {
   "cell_type": "markdown",
   "metadata": {},
   "source": [
    "Next, we calculate the asymptotic standard normal test statistic, `Z`:"
   ]
  },
  {
   "cell_type": "code",
   "execution_count": 9,
   "metadata": {},
   "outputs": [
    {
     "data": {
      "text/plain": [
       "39.116096720358094"
      ]
     },
     "execution_count": 9,
     "metadata": {},
     "output_type": "execute_result"
    }
   ],
   "source": [
    "Z = (R - R_hat)/math.sqrt(R_var)\n",
    "Z"
   ]
  },
  {
   "cell_type": "code",
   "execution_count": 10,
   "metadata": {},
   "outputs": [
    {
     "data": {
      "text/plain": [
       "1.0"
      ]
     },
     "execution_count": 10,
     "metadata": {},
     "output_type": "execute_result"
    }
   ],
   "source": [
    "norm.cdf(Z)"
   ]
  },
  {
   "cell_type": "markdown",
   "metadata": {},
   "source": [
    "We now use the normal CDF at `Z` to obtain the confidence bound `1 - alpha`"
   ]
  },
  {
   "cell_type": "code",
   "execution_count": 11,
   "metadata": {},
   "outputs": [],
   "source": [
    "alpha = 2 * (norm.cdf(Z) -1)"
   ]
  },
  {
   "cell_type": "code",
   "execution_count": 12,
   "metadata": {},
   "outputs": [
    {
     "data": {
      "text/plain": [
       "0.0"
      ]
     },
     "execution_count": 12,
     "metadata": {},
     "output_type": "execute_result"
    }
   ],
   "source": [
    "alpha"
   ]
  },
  {
   "cell_type": "markdown",
   "metadata": {},
   "source": [
    "The test statistic leads to the conclusion that the up and down streaks follow different distributions."
   ]
  },
  {
   "cell_type": "markdown",
   "metadata": {},
   "source": [
    "## 2nd Implementation\n",
    "\n",
    "In order to confirm this result, we recalculate using the single-sample runs test implemented in the statsmodel standard library. This implementation requires a single array of zeroes and ones as input. So we start over, by replicating each row in the data exactly `length` times:"
   ]
  },
  {
   "cell_type": "code",
   "execution_count": 13,
   "metadata": {},
   "outputs": [
    {
     "data": {
      "text/html": [
       "<div>\n",
       "<style scoped>\n",
       "    .dataframe tbody tr th:only-of-type {\n",
       "        vertical-align: middle;\n",
       "    }\n",
       "\n",
       "    .dataframe tbody tr th {\n",
       "        vertical-align: top;\n",
       "    }\n",
       "\n",
       "    .dataframe thead th {\n",
       "        text-align: right;\n",
       "    }\n",
       "</style>\n",
       "<table border=\"1\" class=\"dataframe\">\n",
       "  <thead>\n",
       "    <tr style=\"text-align: right;\">\n",
       "      <th></th>\n",
       "      <th>startdate</th>\n",
       "      <th>enddate</th>\n",
       "      <th>length</th>\n",
       "      <th>ret</th>\n",
       "      <th>fwd_ret</th>\n",
       "      <th>up</th>\n",
       "      <th>ticker</th>\n",
       "    </tr>\n",
       "  </thead>\n",
       "  <tbody>\n",
       "    <tr>\n",
       "      <th>0</th>\n",
       "      <td>1990-04-06</td>\n",
       "      <td>1990-05-04</td>\n",
       "      <td>5</td>\n",
       "      <td>-0.4</td>\n",
       "      <td>0.1</td>\n",
       "      <td>False</td>\n",
       "      <td>PKOH</td>\n",
       "    </tr>\n",
       "    <tr>\n",
       "      <th>1</th>\n",
       "      <td>1990-04-06</td>\n",
       "      <td>1990-05-04</td>\n",
       "      <td>5</td>\n",
       "      <td>-0.4</td>\n",
       "      <td>0.1</td>\n",
       "      <td>False</td>\n",
       "      <td>PKOH</td>\n",
       "    </tr>\n",
       "    <tr>\n",
       "      <th>2</th>\n",
       "      <td>1990-04-06</td>\n",
       "      <td>1990-05-04</td>\n",
       "      <td>5</td>\n",
       "      <td>-0.4</td>\n",
       "      <td>0.1</td>\n",
       "      <td>False</td>\n",
       "      <td>PKOH</td>\n",
       "    </tr>\n",
       "    <tr>\n",
       "      <th>3</th>\n",
       "      <td>1990-04-06</td>\n",
       "      <td>1990-05-04</td>\n",
       "      <td>5</td>\n",
       "      <td>-0.4</td>\n",
       "      <td>0.1</td>\n",
       "      <td>False</td>\n",
       "      <td>PKOH</td>\n",
       "    </tr>\n",
       "    <tr>\n",
       "      <th>4</th>\n",
       "      <td>1990-04-06</td>\n",
       "      <td>1990-05-04</td>\n",
       "      <td>5</td>\n",
       "      <td>-0.4</td>\n",
       "      <td>0.1</td>\n",
       "      <td>False</td>\n",
       "      <td>PKOH</td>\n",
       "    </tr>\n",
       "    <tr>\n",
       "      <th>5</th>\n",
       "      <td>1990-05-11</td>\n",
       "      <td>1990-05-11</td>\n",
       "      <td>1</td>\n",
       "      <td>0.133333</td>\n",
       "      <td>0.0588235</td>\n",
       "      <td>True</td>\n",
       "      <td>PKOH</td>\n",
       "    </tr>\n",
       "    <tr>\n",
       "      <th>6</th>\n",
       "      <td>1990-05-18</td>\n",
       "      <td>1990-05-18</td>\n",
       "      <td>1</td>\n",
       "      <td>-0.0882353</td>\n",
       "      <td>0.225806</td>\n",
       "      <td>False</td>\n",
       "      <td>PKOH</td>\n",
       "    </tr>\n",
       "    <tr>\n",
       "      <th>7</th>\n",
       "      <td>1990-05-25</td>\n",
       "      <td>1990-06-15</td>\n",
       "      <td>4</td>\n",
       "      <td>0.225806</td>\n",
       "      <td>-0.131579</td>\n",
       "      <td>True</td>\n",
       "      <td>PKOH</td>\n",
       "    </tr>\n",
       "    <tr>\n",
       "      <th>8</th>\n",
       "      <td>1990-05-25</td>\n",
       "      <td>1990-06-15</td>\n",
       "      <td>4</td>\n",
       "      <td>0.225806</td>\n",
       "      <td>-0.131579</td>\n",
       "      <td>True</td>\n",
       "      <td>PKOH</td>\n",
       "    </tr>\n",
       "    <tr>\n",
       "      <th>9</th>\n",
       "      <td>1990-05-25</td>\n",
       "      <td>1990-06-15</td>\n",
       "      <td>4</td>\n",
       "      <td>0.225806</td>\n",
       "      <td>-0.131579</td>\n",
       "      <td>True</td>\n",
       "      <td>PKOH</td>\n",
       "    </tr>\n",
       "    <tr>\n",
       "      <th>10</th>\n",
       "      <td>1990-05-25</td>\n",
       "      <td>1990-06-15</td>\n",
       "      <td>4</td>\n",
       "      <td>0.225806</td>\n",
       "      <td>-0.131579</td>\n",
       "      <td>True</td>\n",
       "      <td>PKOH</td>\n",
       "    </tr>\n",
       "    <tr>\n",
       "      <th>11</th>\n",
       "      <td>1990-06-22</td>\n",
       "      <td>1990-07-13</td>\n",
       "      <td>4</td>\n",
       "      <td>-0.131579</td>\n",
       "      <td>-0.030303</td>\n",
       "      <td>False</td>\n",
       "      <td>PKOH</td>\n",
       "    </tr>\n",
       "    <tr>\n",
       "      <th>12</th>\n",
       "      <td>1990-06-22</td>\n",
       "      <td>1990-07-13</td>\n",
       "      <td>4</td>\n",
       "      <td>-0.131579</td>\n",
       "      <td>-0.030303</td>\n",
       "      <td>False</td>\n",
       "      <td>PKOH</td>\n",
       "    </tr>\n",
       "    <tr>\n",
       "      <th>13</th>\n",
       "      <td>1990-06-22</td>\n",
       "      <td>1990-07-13</td>\n",
       "      <td>4</td>\n",
       "      <td>-0.131579</td>\n",
       "      <td>-0.030303</td>\n",
       "      <td>False</td>\n",
       "      <td>PKOH</td>\n",
       "    </tr>\n",
       "    <tr>\n",
       "      <th>14</th>\n",
       "      <td>1990-06-22</td>\n",
       "      <td>1990-07-13</td>\n",
       "      <td>4</td>\n",
       "      <td>-0.131579</td>\n",
       "      <td>-0.030303</td>\n",
       "      <td>False</td>\n",
       "      <td>PKOH</td>\n",
       "    </tr>\n",
       "    <tr>\n",
       "      <th>15</th>\n",
       "      <td>1990-07-20</td>\n",
       "      <td>1990-07-20</td>\n",
       "      <td>1</td>\n",
       "      <td>0.0606061</td>\n",
       "      <td>-0.2</td>\n",
       "      <td>True</td>\n",
       "      <td>PKOH</td>\n",
       "    </tr>\n",
       "    <tr>\n",
       "      <th>16</th>\n",
       "      <td>1990-07-27</td>\n",
       "      <td>1990-08-24</td>\n",
       "      <td>5</td>\n",
       "      <td>-0.257143</td>\n",
       "      <td>0.0384615</td>\n",
       "      <td>False</td>\n",
       "      <td>PKOH</td>\n",
       "    </tr>\n",
       "    <tr>\n",
       "      <th>17</th>\n",
       "      <td>1990-07-27</td>\n",
       "      <td>1990-08-24</td>\n",
       "      <td>5</td>\n",
       "      <td>-0.257143</td>\n",
       "      <td>0.0384615</td>\n",
       "      <td>False</td>\n",
       "      <td>PKOH</td>\n",
       "    </tr>\n",
       "    <tr>\n",
       "      <th>18</th>\n",
       "      <td>1990-07-27</td>\n",
       "      <td>1990-08-24</td>\n",
       "      <td>5</td>\n",
       "      <td>-0.257143</td>\n",
       "      <td>0.0384615</td>\n",
       "      <td>False</td>\n",
       "      <td>PKOH</td>\n",
       "    </tr>\n",
       "    <tr>\n",
       "      <th>19</th>\n",
       "      <td>1990-07-27</td>\n",
       "      <td>1990-08-24</td>\n",
       "      <td>5</td>\n",
       "      <td>-0.257143</td>\n",
       "      <td>0.0384615</td>\n",
       "      <td>False</td>\n",
       "      <td>PKOH</td>\n",
       "    </tr>\n",
       "  </tbody>\n",
       "</table>\n",
       "</div>"
      ],
      "text/plain": [
       "     startdate     enddate length        ret    fwd_ret     up ticker\n",
       "0   1990-04-06  1990-05-04      5       -0.4        0.1  False   PKOH\n",
       "1   1990-04-06  1990-05-04      5       -0.4        0.1  False   PKOH\n",
       "2   1990-04-06  1990-05-04      5       -0.4        0.1  False   PKOH\n",
       "3   1990-04-06  1990-05-04      5       -0.4        0.1  False   PKOH\n",
       "4   1990-04-06  1990-05-04      5       -0.4        0.1  False   PKOH\n",
       "5   1990-05-11  1990-05-11      1   0.133333  0.0588235   True   PKOH\n",
       "6   1990-05-18  1990-05-18      1 -0.0882353   0.225806  False   PKOH\n",
       "7   1990-05-25  1990-06-15      4   0.225806  -0.131579   True   PKOH\n",
       "8   1990-05-25  1990-06-15      4   0.225806  -0.131579   True   PKOH\n",
       "9   1990-05-25  1990-06-15      4   0.225806  -0.131579   True   PKOH\n",
       "10  1990-05-25  1990-06-15      4   0.225806  -0.131579   True   PKOH\n",
       "11  1990-06-22  1990-07-13      4  -0.131579  -0.030303  False   PKOH\n",
       "12  1990-06-22  1990-07-13      4  -0.131579  -0.030303  False   PKOH\n",
       "13  1990-06-22  1990-07-13      4  -0.131579  -0.030303  False   PKOH\n",
       "14  1990-06-22  1990-07-13      4  -0.131579  -0.030303  False   PKOH\n",
       "15  1990-07-20  1990-07-20      1  0.0606061       -0.2   True   PKOH\n",
       "16  1990-07-27  1990-08-24      5  -0.257143  0.0384615  False   PKOH\n",
       "17  1990-07-27  1990-08-24      5  -0.257143  0.0384615  False   PKOH\n",
       "18  1990-07-27  1990-08-24      5  -0.257143  0.0384615  False   PKOH\n",
       "19  1990-07-27  1990-08-24      5  -0.257143  0.0384615  False   PKOH"
      ]
     },
     "execution_count": 13,
     "metadata": {},
     "output_type": "execute_result"
    }
   ],
   "source": [
    "newdf = pd.DataFrame(np.repeat(df1.values,df1.length,axis=0))\n",
    "newdf.columns = df1.columns  # recreate column names\n",
    "newdf.head(20)"
   ]
  },
  {
   "cell_type": "code",
   "execution_count": 14,
   "metadata": {
    "scrolled": true
   },
   "outputs": [
    {
     "data": {
      "text/plain": [
       "0    0\n",
       "1    0\n",
       "2    0\n",
       "3    0\n",
       "4    0\n",
       "5    1\n",
       "6    0\n",
       "7    1\n",
       "8    1\n",
       "9    1\n",
       "Name: up, dtype: int64"
      ]
     },
     "execution_count": 14,
     "metadata": {},
     "output_type": "execute_result"
    }
   ],
   "source": [
    "x = newdf.up.astype(int) # turn the boolean 'up' column into zeros and ones\n",
    "x.head(10)"
   ]
  },
  {
   "cell_type": "code",
   "execution_count": 15,
   "metadata": {},
   "outputs": [
    {
     "data": {
      "text/plain": [
       "(36.48975933941316, 1.6119120821411254e-291)"
      ]
     },
     "execution_count": 15,
     "metadata": {},
     "output_type": "execute_result"
    }
   ],
   "source": [
    "sms.runstest_1samp(x, correction=False)"
   ]
  },
  {
   "cell_type": "markdown",
   "metadata": {},
   "source": [
    "While the Z statistic is somewhat different, likely due to use of the \"exact\" instead of \"asymptotic\" version in statsmodel, the end result remains the same. **The null hypothesis that the streaks are randomly distributed has to be discarded.**"
   ]
  }
 ],
 "metadata": {
  "kernelspec": {
   "display_name": "Python 3",
   "language": "python",
   "name": "python3"
  },
  "language_info": {
   "codemirror_mode": {
    "name": "ipython",
    "version": 3
   },
   "file_extension": ".py",
   "mimetype": "text/x-python",
   "name": "python",
   "nbconvert_exporter": "python",
   "pygments_lexer": "ipython3",
   "version": "3.7.4"
  }
 },
 "nbformat": 4,
 "nbformat_minor": 2
}
