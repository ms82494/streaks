{
 "cells": [
  {
   "cell_type": "code",
   "execution_count": 1,
   "metadata": {},
   "outputs": [],
   "source": [
    "import pandas as pd\n",
    "import seaborn as sns\n",
    "import matplotlib.pyplot as plt"
   ]
  },
  {
   "cell_type": "code",
   "execution_count": null,
   "metadata": {},
   "outputs": [],
   "source": [
    "import seaborn as sns\n",
    "import matplotlib.pyplot as plt\n",
    " \n",
    "# Extract USA population data in 2017\n",
    "current_population = population_df[(population_df.Location\n",
    "== 'United States of America') & (population_df.Time == 2017) & (population_df.Sex != 'Both')]\n",
    " \n",
    "# Change the age group to descending order current_population = current_population.iloc[::-1]\n",
    " \n",
    "# Create two subplots with shared y-axis\n",
    "fig, axes = plt.subplots(ncols=2, sharey=True)\n",
    " \n",
    "# Bar chart for male\n",
    "sns.barplot(x=\"Value\",y=\"AgeGrp\", color=\"darkblue\", ax=axes[0],\n",
    "data = current_population[(current_population.Sex == 'Male')])\n",
    "# Bar chart for female\n",
    "sns.barplot(x=\"Value\",y=\"AgeGrp\", color=\"darkred\", ax=axes[1], data = current_population[(current_population.Sex ==\n",
    "'Female')])\n",
    " \n",
    "# Use Matplotlib function to invert the first chart axes[0].invert_xaxis()\n",
    " \n",
    "# Use Matplotlib function to show tick labels in the middle axes[0].yaxis.tick_right()\n",
    " \n",
    "# Use Matplotlib functions to label the axes and titles axes[0].set_title(\"Male\")\n",
    "axes[1].set_title(\"Female\")\n",
    "axes[0].set(xlabel=\"Population (thousands)\", ylabel=\"Age Group\") axes[1].set(xlabel=\"Population (thousands)\", ylabel=\"\") fig.suptitle(\"Population Pyramid (USA)\")\n",
    " \n",
    "# Show the figure plt.show()"
   ]
  }
 ],
 "metadata": {
  "kernelspec": {
   "display_name": "Python 3",
   "language": "python",
   "name": "python3"
  },
  "language_info": {
   "codemirror_mode": {
    "name": "ipython",
    "version": 3
   },
   "file_extension": ".py",
   "mimetype": "text/x-python",
   "name": "python",
   "nbconvert_exporter": "python",
   "pygments_lexer": "ipython3",
   "version": "3.7.4"
  }
 },
 "nbformat": 4,
 "nbformat_minor": 2
}
